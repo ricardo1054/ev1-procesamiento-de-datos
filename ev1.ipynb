{
 "cells": [
  {
   "cell_type": "markdown",
   "id": "93b41b59-f3e0-43fc-900e-b8f8c5a50871",
   "metadata": {},
   "source": [
    "Linux.log\n",
    "Un archivo Linux.log suele ser un registro que contiene información sobre el funcionamiento del sistema operativo Linux. \n",
    "Eventos del sistema: Mensajes sobre el arranque, la parada y otros eventos del sistema.\n",
    "Errores: Información sobre fallos en aplicaciones o en el sistema.\n",
    "Actividades de usuarios: Registro de las acciones realizadas por los usuarios.\n",
    "Cambios en la configuración: Información sobre modificaciones en la configuración del sistema.\n",
    "Seguridad: Registros de intentos de acceso y eventos relacionados con la seguridad."
   ]
  },
  {
   "cell_type": "code",
   "execution_count": null,
   "id": "f5764965-617b-4155-a1c5-d6065a021718",
   "metadata": {},
   "outputs": [],
   "source": [
    "Número de líneas:\n",
    "wc -l ./Linux.log\n",
    "25567"
   ]
  },
  {
   "cell_type": "code",
   "execution_count": null,
   "id": "574680e1-205d-4bb5-8822-53244245ef18",
   "metadata": {},
   "outputs": [],
   "source": [
    "Número de palabras:\n",
    "wc -w < Linux.log\n",
    "308039"
   ]
  },
  {
   "cell_type": "code",
   "execution_count": null,
   "id": "d7e04301-b919-4356-97b6-3419ba1109e7",
   "metadata": {},
   "outputs": [],
   "source": [
    "Número de caracteres:\n",
    "wc -c ./Linux.log\n",
    "2375013"
   ]
  },
  {
   "cell_type": "code",
   "execution_count": null,
   "id": "6ac5c30c-8c26-435e-a45a-414ddd0d0f19",
   "metadata": {},
   "outputs": [],
   "source": [
    "Número de eventos por mes:\n",
    "awk '{print $1}' Linux.log | sort | uniq -c\n",
    "1208 Aug\n",
    "4750 Dec\n",
    "1222 Feb\n",
    "2439 Jan\n",
    "1659 Jul\n",
    "1605 Jun\n",
    "9315 Nov\n",
    "1540 Oct\n",
    "1829 Sep"
   ]
  },
  {
   "cell_type": "code",
   "execution_count": null,
   "id": "a3697bdc-a9da-41f2-a178-9b6fb8a57579",
   "metadata": {},
   "outputs": [],
   "source": [
    "Eventos con el string \"authentication failure\": listado de usuarios y cantidad de eventos:\n",
    "grep \"authentication failure\" ./Linux.log | grep -oP 'user=\\K\\S+' | sort | uniq -c\n",
    "10 adm\n",
    "26 amanda\n",
    "29 fax\n",
    "21 ftp\n",
    "23 guest\n",
    "1 info\n",
    "96 nobody\n",
    "5 postfix\n",
    "2258 root\n",
    "412 test\n",
    "16 webmaster"
   ]
  },
  {
   "cell_type": "code",
   "execution_count": null,
   "id": "36a7ab36-7beb-4f08-b7a0-4205e0d166b2",
   "metadata": {},
   "outputs": [],
   "source": [
    "Lista de IPs que establecieron conexión vía FTP y cuántas conexiones realizaron:\n",
    "grep \"FTP\" ./Linux.log | grep -oP '\\d{1,3}.\\d{1,3}.\\d{1,3}.\\d{1,3}' | sort | uniq -c\n",
    "8 81.240.142.171\n",
    "2 84.102.20.2\n",
    "1 84.102.20.91"
   ]
  },
  {
   "cell_type": "markdown",
   "id": "e3ccf303-4a46-4187-b621-d6863e177b41",
   "metadata": {},
   "source": [
    "Un archivo Apache.log, generalmente asociado con el servidor web Apache, registra información sobre las solicitudes que recibe el servidor. Existen dos tipos principales de registros:\n",
    "\n",
    "Access Log: Este archivo registra cada solicitud que se realiza al servidor, incluyendo:\n",
    "\n",
    "Dirección IP del cliente.\n",
    "Fecha y hora de la solicitud.\n",
    "Método HTTP (GET, POST, etc.).\n",
    "URL solicitada.\n",
    "Código de estado de la respuesta (200, 404, etc.).\n",
    "Tamaño de la respuesta.\n",
    "Agente de usuario (información sobre el navegador y sistema operativo del cliente).\n",
    "Error Log: Este archivo registra errores que ocurren en el servidor, como:\n",
    "\n",
    "Fallos en la ejecución de scripts.\n",
    "Errores de configuración.\n",
    "Problemas con los permisos de archivos."
   ]
  },
  {
   "cell_type": "code",
   "execution_count": null,
   "id": "78aab1d9-e55d-4c18-8372-28e520b34ffe",
   "metadata": {},
   "outputs": [],
   "source": [
    "Número de líneas:\n",
    "wc -l ./Apache.log\n",
    "56481"
   ]
  },
  {
   "cell_type": "code",
   "execution_count": null,
   "id": "6f793c3a-6b61-450a-b985-53bf72b01b7d",
   "metadata": {},
   "outputs": [],
   "source": [
    "Número de eventos por mes:\n",
    "awk '{print $2}' Apache.log | grep -v \"script\" | sort | uniq -c | awk '{sum[$1]++} END {for (month in sum) print month, sum[month]}' | sort -k2 -nr\n",
    "Nov 15862\n",
    "Jan 10905\n",
    "Feb 8790\n",
    "Dec 6086\n",
    "not 4478\n",
    "Jul 3335\n",
    "Jun 2580\n",
    "Sep 1839\n",
    "Aug 1448\n",
    "Oct 1159"
   ]
  },
  {
   "cell_type": "code",
   "execution_count": null,
   "id": "b4f31284-d414-43c8-a844-d6ab7a5d5e93",
   "metadata": {},
   "outputs": [],
   "source": [
    "Número de eventos por categoría: notice, error, warn:\n",
    "grep -oE '[(notice|error|warn)]' Apache.log | sort | uniq -c\n",
    "38081 [error]\n",
    "13755 [notice]\n",
    "168 [warn]"
   ]
  },
  {
   "cell_type": "code",
   "execution_count": null,
   "id": "32ecccae-a7f3-42be-b44a-c2660c1816c6",
   "metadata": {},
   "outputs": [],
   "source": [
    "Eventos tipo error: listado de clients:\n",
    "bash\n",
    "Copiar código\n",
    "grep '[error]' Apache.log | grep -oE 'client [0-9]+.[0-9]+.[0-9]+.[0-9]+' | sort | uniq\n",
    "client 12.0.102.64\n",
    "client 12.0.232.80\n",
    "client 12.103.214.173\n",
    "client 12.108.171.240\n",
    "client 12.124.47.242\n",
    "client 12.127.69.10\n",
    "etc..."
   ]
  }
 ],
 "metadata": {
  "kernelspec": {
   "display_name": "Python 3 (ipykernel)",
   "language": "python",
   "name": "python3"
  },
  "language_info": {
   "codemirror_mode": {
    "name": "ipython",
    "version": 3
   },
   "file_extension": ".py",
   "mimetype": "text/x-python",
   "name": "python",
   "nbconvert_exporter": "python",
   "pygments_lexer": "ipython3",
   "version": "3.9.0"
  }
 },
 "nbformat": 4,
 "nbformat_minor": 5
}
